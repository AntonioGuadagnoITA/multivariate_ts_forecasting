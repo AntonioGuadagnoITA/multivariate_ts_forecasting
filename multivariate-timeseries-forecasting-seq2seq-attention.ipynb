{
  "metadata": {
    "kernelspec": {
      "language": "python",
      "display_name": "Python 3",
      "name": "python3"
    },
    "language_info": {
      "name": "python",
      "version": "3.7.12",
      "mimetype": "text/x-python",
      "codemirror_mode": {
        "name": "ipython",
        "version": 3
      },
      "pygments_lexer": "ipython3",
      "nbconvert_exporter": "python",
      "file_extension": ".py"
    },
    "colab": {
      "name": "TS_Seq2Seq_Attention_Forecasting_Problems.ipynb",
      "provenance": []
    }
  },
  "nbformat_minor": 0,
  "nbformat": 4,
  "cells": [
    {
      "cell_type": "code",
      "source": [
        "# Importing libraries\n",
        "import tensorflow as tf\n",
        "import numpy as np\n",
        "import os\n",
        "import random\n",
        "import pandas as pd\n",
        "import seaborn as sns\n",
        "from datetime import datetime\n",
        "import matplotlib.pyplot as plt\n",
        "plt.rc('font', size=16)\n",
        "from sklearn.preprocessing import MinMaxScaler\n",
        "import warnings\n",
        "warnings.filterwarnings('ignore')\n",
        "tf.get_logger().setLevel('ERROR')\n",
        "\n",
        "tfk = tf.keras\n",
        "tfkl = tf.keras.layers\n",
        "\n",
        "# Setting random seed for reproducibility\n",
        "seed = 42\n",
        "\n",
        "random.seed(seed)\n",
        "os.environ['PYTHONHASHSEED'] = str(seed)\n",
        "np.random.seed(seed)\n",
        "tf.random.set_seed(seed)\n",
        "tf.compat.v1.set_random_seed(seed)\n",
        "\n",
        "dataset = pd.read_csv('../input/an2dl-homework-2/Training.csv')\n",
        "print(dataset.shape)\n",
        "dataset.head()\n",
        "\n",
        "# Printing dataset info\n",
        "dataset.info()"
      ],
      "metadata": {
        "execution": {
          "iopub.status.busy": "2022-01-05T13:26:32.131705Z",
          "iopub.execute_input": "2022-01-05T13:26:32.134406Z",
          "iopub.status.idle": "2022-01-05T13:26:32.272834Z",
          "shell.execute_reply.started": "2022-01-05T13:26:32.134357Z",
          "shell.execute_reply": "2022-01-05T13:26:32.271952Z"
        },
        "trusted": true,
        "id": "l4uq-YyOSKu1"
      },
      "execution_count": null,
      "outputs": []
    },
    {
      "cell_type": "code",
      "source": [
        "def inspect_dataframe(df, columns):\n",
        "    figs, axs = plt.subplots(len(columns), 1, sharex=True, figsize=(17,17))\n",
        "    for i, col in enumerate(columns):\n",
        "        axs[i].plot(df[col])\n",
        "        axs[i].set_title(col)\n",
        "    plt.show()\n",
        "    \n",
        "# Plotting time series\n",
        "inspect_dataframe(dataset, dataset.columns)"
      ],
      "metadata": {
        "execution": {
          "iopub.status.busy": "2022-01-05T13:26:32.274734Z",
          "iopub.execute_input": "2022-01-05T13:26:32.275013Z",
          "iopub.status.idle": "2022-01-05T13:26:33.143923Z",
          "shell.execute_reply.started": "2022-01-05T13:26:32.274975Z",
          "shell.execute_reply": "2022-01-05T13:26:33.143268Z"
        },
        "trusted": true,
        "id": "YpH8y80NSKvF"
      },
      "execution_count": null,
      "outputs": []
    },
    {
      "cell_type": "code",
      "source": [
        "window = 200\n",
        "stride = 5\n",
        "validation_size = 13000 #(20%)\n",
        "target_labels = dataset.columns\n",
        "telescope = 1 # Autoregressive approach"
      ],
      "metadata": {
        "execution": {
          "iopub.status.busy": "2022-01-05T13:26:33.145183Z",
          "iopub.execute_input": "2022-01-05T13:26:33.145559Z",
          "iopub.status.idle": "2022-01-05T13:26:33.151088Z",
          "shell.execute_reply.started": "2022-01-05T13:26:33.145525Z",
          "shell.execute_reply": "2022-01-05T13:26:33.150426Z"
        },
        "trusted": true,
        "id": "jt5o8gb_SKvJ"
      },
      "execution_count": null,
      "outputs": []
    },
    {
      "cell_type": "code",
      "source": [
        "X_train_raw = dataset.iloc[:-validation_size]\n",
        "X_validation_raw = dataset.iloc[-validation_size:]\n",
        "\n",
        "print(X_train_raw.shape, X_validation_raw.shape)\n",
        "\n",
        "# Normalize both features and labels\n",
        "X_min = X_train_raw.min()\n",
        "X_max = X_train_raw.max()\n",
        "\n",
        "X_train_raw = (X_train_raw-X_min)/(X_max-X_min)\n",
        "X_validation_raw = (X_validation_raw-X_min)/(X_max-X_min)"
      ],
      "metadata": {
        "execution": {
          "iopub.status.busy": "2022-01-05T13:26:33.153202Z",
          "iopub.execute_input": "2022-01-05T13:26:33.153649Z",
          "iopub.status.idle": "2022-01-05T13:26:33.169911Z",
          "shell.execute_reply.started": "2022-01-05T13:26:33.153612Z",
          "shell.execute_reply": "2022-01-05T13:26:33.169021Z"
        },
        "trusted": true,
        "id": "3l-AsVydSKvN"
      },
      "execution_count": null,
      "outputs": []
    },
    {
      "cell_type": "code",
      "source": [
        "def printplots():\n",
        "    for i in range(X_train_raw.shape[1]):\n",
        "        plt.figure(figsize=(17,5))\n",
        "        plt.plot(X_train_raw[(target_labels[i])], label='Train')\n",
        "        plt.plot(X_validation_raw[(target_labels[i])], label='Test')\n",
        "        plt.title((target_labels[i]))\n",
        "        plt.legend()\n",
        "        plt.show()\n",
        "        \n",
        "printplots()"
      ],
      "metadata": {
        "execution": {
          "iopub.status.busy": "2022-01-05T13:26:33.171104Z",
          "iopub.execute_input": "2022-01-05T13:26:33.171552Z",
          "iopub.status.idle": "2022-01-05T13:26:36.276788Z",
          "shell.execute_reply.started": "2022-01-05T13:26:33.171514Z",
          "shell.execute_reply": "2022-01-05T13:26:36.276083Z"
        },
        "trusted": true,
        "id": "xyemo4zRSKvP"
      },
      "execution_count": null,
      "outputs": []
    },
    {
      "cell_type": "code",
      "source": [
        "future = dataset[-window:]\n",
        "future = (future-X_min)/(X_max-X_min)\n",
        "future = np.expand_dims(future, axis=0)\n",
        "future.shape"
      ],
      "metadata": {
        "execution": {
          "iopub.status.busy": "2022-01-05T13:26:36.278103Z",
          "iopub.execute_input": "2022-01-05T13:26:36.278626Z",
          "iopub.status.idle": "2022-01-05T13:26:36.286991Z",
          "shell.execute_reply.started": "2022-01-05T13:26:36.278585Z",
          "shell.execute_reply": "2022-01-05T13:26:36.285971Z"
        },
        "trusted": true,
        "id": "13ML7ffgSKvS"
      },
      "execution_count": null,
      "outputs": []
    },
    {
      "cell_type": "code",
      "source": [
        "def build_sequences(df, target_labels, window=window, stride=stride, telescope=telescope):\n",
        "    \n",
        "    assert window % stride == 0\n",
        "    dataset = []\n",
        "    temp_df = df.copy().values\n",
        "    temp_label = df[target_labels].copy().values\n",
        "    padding_len = len(df)%window\n",
        "    labels_in = []\n",
        "    labels_out = []\n",
        "\n",
        "    if(padding_len != 0):\n",
        "        # Compute padding length\n",
        "        padding_len = window - len(df)%window\n",
        "        padding = np.zeros((padding_len,temp_df.shape[1]), dtype='float32')\n",
        "        temp_df = np.concatenate((padding,df))\n",
        "        padding = np.zeros((padding_len,temp_label.shape[1]), dtype='float32')\n",
        "        temp_label = np.concatenate((padding,temp_label))\n",
        "        assert len(temp_df) % window == 0\n",
        "\n",
        "    for idx in np.arange(0,len(temp_df)-window-telescope,stride):\n",
        "        dataset.append(temp_df[idx:idx+window]) # Encoder input for training [Ex: 0 1 2 ... 199]\n",
        "        \n",
        "        y_dec_in = temp_label[idx+window-1:idx+window+telescope-1] # Decoder input for training [Ex: 199 200 201 ...]\n",
        "        labels_in.append(y_dec_in)\n",
        "        y_dec_out = temp_label[idx+window:idx+window+telescope] # Decoder output for training [Ex: 200 201 202 ...]\n",
        "        labels_out.append(y_dec_out)\n",
        "\n",
        "    dataset = np.array(dataset)\n",
        "    labels_in = np.array(labels_in)\n",
        "    labels_out = np.array(labels_out)\n",
        "    \n",
        "    return dataset, labels_out, labels_in"
      ],
      "metadata": {
        "execution": {
          "iopub.status.busy": "2022-01-05T13:26:36.288230Z",
          "iopub.execute_input": "2022-01-05T13:26:36.288633Z",
          "iopub.status.idle": "2022-01-05T13:26:36.299949Z",
          "shell.execute_reply.started": "2022-01-05T13:26:36.288596Z",
          "shell.execute_reply": "2022-01-05T13:26:36.299126Z"
        },
        "trusted": true,
        "id": "ajUd4B2NSKvU"
      },
      "execution_count": null,
      "outputs": []
    },
    {
      "cell_type": "code",
      "source": [
        "X_train, y_train_dec_out, y_train_dec_in = build_sequences(X_train_raw, target_labels, window, stride, telescope)\n",
        "X_val, y_val_dec_out, y_val_dec_in = build_sequences(X_validation_raw, target_labels, window, stride, telescope)"
      ],
      "metadata": {
        "execution": {
          "iopub.status.busy": "2022-01-05T13:26:36.301068Z",
          "iopub.execute_input": "2022-01-05T13:26:36.301738Z",
          "iopub.status.idle": "2022-01-05T13:26:36.459101Z",
          "shell.execute_reply.started": "2022-01-05T13:26:36.301702Z",
          "shell.execute_reply": "2022-01-05T13:26:36.458360Z"
        },
        "trusted": true,
        "id": "lgI4IjQQSKvb"
      },
      "execution_count": null,
      "outputs": []
    },
    {
      "cell_type": "code",
      "source": [
        "print(X_train.shape)\n",
        "print(y_train_dec_out.shape)\n",
        "print(y_train_dec_in.shape)\n",
        "print(X_val.shape)\n",
        "print(y_val_dec_out.shape)\n",
        "print(y_val_dec_in.shape)"
      ],
      "metadata": {
        "execution": {
          "iopub.status.busy": "2022-01-05T13:26:36.460607Z",
          "iopub.execute_input": "2022-01-05T13:26:36.460845Z",
          "iopub.status.idle": "2022-01-05T13:26:36.467689Z",
          "shell.execute_reply.started": "2022-01-05T13:26:36.460812Z",
          "shell.execute_reply": "2022-01-05T13:26:36.466172Z"
        },
        "trusted": true,
        "id": "5WBjS2kPSKvd"
      },
      "execution_count": null,
      "outputs": []
    },
    {
      "cell_type": "code",
      "source": [
        "input_shape = X_train.shape[1:]\n",
        "output_shape = y_train_dec_out.shape[1:]\n",
        "batch_size = 32\n",
        "epochs = 200"
      ],
      "metadata": {
        "execution": {
          "iopub.status.busy": "2022-01-05T13:26:36.471076Z",
          "iopub.execute_input": "2022-01-05T13:26:36.471805Z",
          "iopub.status.idle": "2022-01-05T13:26:36.476680Z",
          "shell.execute_reply.started": "2022-01-05T13:26:36.471767Z",
          "shell.execute_reply": "2022-01-05T13:26:36.475784Z"
        },
        "trusted": true,
        "id": "ys-mew4ASKvh"
      },
      "execution_count": null,
      "outputs": []
    },
    {
      "cell_type": "code",
      "source": [
        "def SEQ2SEQ_3_Models(input_shape, output_shape, memelem):\n",
        "   \n",
        "    # Encoder \n",
        "    encoder_input = tfkl.Input(shape=input_shape, name='encoder_in')\n",
        "    encoder_output, enc_h, enc_c = tfkl.LSTM(memelem, dropout=0.6, return_state=True, return_sequences=True, name='enc_lstm')(encoder_input)\n",
        "    encoder_state = [enc_h, enc_c]\n",
        "     \n",
        "    # Decoder - Layers written in a different way because we need to call them later\n",
        "    decoder_input = tfkl.Input(shape=output_shape, name='decoder_in')\n",
        "    decoder_lstm = tfkl.LSTM(memelem, dropout=0.6, return_state=True, return_sequences=False, name='decoder_lstm')\n",
        "    decoder_output, _, _ = decoder_lstm(decoder_input, initial_state=encoder_state)\n",
        "    decoder_repeat = tfkl.RepeatVector(window)(decoder_output)\n",
        "    \n",
        "    #Attention\n",
        "    attn_out = tfkl.Attention()([encoder_output, decoder_repeat])\n",
        "    decoder_concat_input = tfkl.Concatenate(axis=-1)([decoder_repeat, attn_out])\n",
        "    \n",
        "    # Dense Output - Layers written in a different way because we need to call them later\n",
        "    time_d = tfkl.TimeDistributed(tfkl.Dense(memelem))(decoder_concat_input)\n",
        "    dense_out = tfkl.Dense(7, activation='relu', name='dense_out')\n",
        "    out = dense_out(time_d)\n",
        "    out = tfkl.GlobalAveragePooling1D()(out)\n",
        "    reshape = tfkl.Reshape((1,7))\n",
        "    out = reshape(out)\n",
        "    \n",
        "    # Model (Not for forecasting)\n",
        "    general_model = tfk.Model([encoder_input, decoder_input], out)\n",
        "    \n",
        "    # ----------------------------------------------------------------------------------\n",
        "    # One step-at-a-time prediction (Like real time translation - last exercise session)\n",
        "    # ----------------------------------------------------------------------------------\n",
        "    \n",
        "    # Encoder\n",
        "    encoder_only = tfk.Model(encoder_input, encoder_state)\n",
        "    \n",
        "    # Decoder state\n",
        "    dec_h = tfkl.Input(shape=memelem)\n",
        "    dec_c = tfkl.Input(shape=memelem)\n",
        "    decoder_state_in = [dec_h, dec_c]\n",
        "    \n",
        "    # New version of the decoder - Takes in input previous prediction and previous state\n",
        "    decoder_input_single = tf.keras.Input(shape=[1, 7]) \n",
        "    decoder_output, h, c = decoder_lstm(decoder_input_single, initial_state=decoder_state_in)\n",
        "    \n",
        "    decoder_state = [h, c]\n",
        "    decoder_output = dense_out(decoder_output)\n",
        "    decoder_output = reshape(decoder_output)\n",
        "    decoder_only = tfk.Model([decoder_input_single] + decoder_state_in, [decoder_output] + decoder_state) # Takes in input previous prediction and previous state\n",
        "    \n",
        "    return general_model, encoder_only, decoder_only"
      ],
      "metadata": {
        "execution": {
          "iopub.status.busy": "2022-01-05T13:26:36.477924Z",
          "iopub.execute_input": "2022-01-05T13:26:36.478718Z",
          "iopub.status.idle": "2022-01-05T13:26:36.493131Z",
          "shell.execute_reply.started": "2022-01-05T13:26:36.478681Z",
          "shell.execute_reply": "2022-01-05T13:26:36.492465Z"
        },
        "trusted": true,
        "id": "NX8hYeNuSKvj"
      },
      "execution_count": null,
      "outputs": []
    },
    {
      "cell_type": "code",
      "source": [
        "general_model, encoder_for_forecasting, decoder_for_forecasting = SEQ2SEQ_3_Models(input_shape, output_shape, 200)\n",
        "general_model.summary()\n",
        "tfk.utils.plot_model(general_model)"
      ],
      "metadata": {
        "execution": {
          "iopub.status.busy": "2022-01-05T13:26:36.496167Z",
          "iopub.execute_input": "2022-01-05T13:26:36.496686Z",
          "iopub.status.idle": "2022-01-05T13:26:37.296970Z",
          "shell.execute_reply.started": "2022-01-05T13:26:36.496656Z",
          "shell.execute_reply": "2022-01-05T13:26:37.296114Z"
        },
        "trusted": true,
        "id": "vy3xl9EgSKvm"
      },
      "execution_count": null,
      "outputs": []
    },
    {
      "cell_type": "code",
      "source": [
        "encoder_for_forecasting.summary()"
      ],
      "metadata": {
        "execution": {
          "iopub.status.busy": "2022-01-05T13:26:37.298713Z",
          "iopub.execute_input": "2022-01-05T13:26:37.300421Z",
          "iopub.status.idle": "2022-01-05T13:26:37.308339Z",
          "shell.execute_reply.started": "2022-01-05T13:26:37.300377Z",
          "shell.execute_reply": "2022-01-05T13:26:37.307436Z"
        },
        "trusted": true,
        "id": "DPrc-hCKSKvn"
      },
      "execution_count": null,
      "outputs": []
    },
    {
      "cell_type": "code",
      "source": [
        "decoder_for_forecasting.summary()"
      ],
      "metadata": {
        "execution": {
          "iopub.status.busy": "2022-01-05T13:26:37.310105Z",
          "iopub.execute_input": "2022-01-05T13:26:37.310415Z",
          "iopub.status.idle": "2022-01-05T13:26:37.322535Z",
          "shell.execute_reply.started": "2022-01-05T13:26:37.310381Z",
          "shell.execute_reply": "2022-01-05T13:26:37.321757Z"
        },
        "trusted": true,
        "id": "58aspqg0SKvp"
      },
      "execution_count": null,
      "outputs": []
    },
    {
      "cell_type": "code",
      "source": [
        "general_model.compile(loss=tfk.losses.MeanSquaredError(), optimizer=tfk.optimizers.Adam(5e-4), metrics=[tfk.metrics.RootMeanSquaredError()])"
      ],
      "metadata": {
        "execution": {
          "iopub.status.busy": "2022-01-05T13:26:37.323831Z",
          "iopub.execute_input": "2022-01-05T13:26:37.324089Z",
          "iopub.status.idle": "2022-01-05T13:26:37.338469Z",
          "shell.execute_reply.started": "2022-01-05T13:26:37.324054Z",
          "shell.execute_reply": "2022-01-05T13:26:37.337846Z"
        },
        "trusted": true,
        "id": "t3r1Rfs_SKvr"
      },
      "execution_count": null,
      "outputs": []
    },
    {
      "cell_type": "code",
      "source": [
        "# Training\n",
        "history = general_model.fit(\n",
        "    x = [X_train, y_train_dec_in],\n",
        "    y = y_train_dec_out,\n",
        "    batch_size = batch_size,\n",
        "    epochs = epochs,\n",
        "    validation_data = ([X_val,y_val_dec_in], y_val_dec_out),\n",
        "    callbacks = [tfk.callbacks.EarlyStopping(monitor='val_loss', mode='min', patience=10, restore_best_weights=True),\n",
        "                tfk.callbacks.ReduceLROnPlateau(monitor='val_loss', mode='min', patience=5, factor=0.5, min_lr=1e-5)]\n",
        ").history"
      ],
      "metadata": {
        "execution": {
          "iopub.status.busy": "2022-01-05T13:26:37.339739Z",
          "iopub.execute_input": "2022-01-05T13:26:37.339989Z"
        },
        "trusted": true,
        "id": "FhNFVabrSKvv"
      },
      "execution_count": null,
      "outputs": []
    },
    {
      "cell_type": "code",
      "source": [
        "best_epoch = np.argmin(history['val_loss'])\n",
        "plt.figure(figsize=(17,4))\n",
        "plt.plot(history['loss'], label='Training loss', alpha=.8, color='#ff7f0e')\n",
        "plt.plot(history['val_loss'], label='Validation loss', alpha=.9, color='#5a9aa5')\n",
        "plt.axvline(x=best_epoch, label='Best epoch', alpha=.3, ls='--', color='#5a9aa5')\n",
        "plt.title('Root Mean Squared Error (Loss)')\n",
        "plt.legend()\n",
        "plt.grid(alpha=.3)\n",
        "plt.show()\n",
        "\n",
        "plt.figure(figsize=(17,4))\n",
        "plt.plot(history['root_mean_squared_error'], label='Training RMSE', alpha=.8, color='#ff7f0e')\n",
        "plt.plot(history['val_root_mean_squared_error'], label='Validation RMSE', alpha=.9, color='#5a9aa5')\n",
        "plt.axvline(x=best_epoch, label='Best epoch', alpha=.3, ls='--', color='#5a9aa5')\n",
        "plt.title('Root Mean Squared Error')\n",
        "plt.legend()\n",
        "plt.grid(alpha=.3)\n",
        "plt.show()\n",
        "\n",
        "plt.figure(figsize=(18,3))\n",
        "plt.plot(history['lr'], label='Learning Rate', alpha=.8, color='#ff7f0e')\n",
        "plt.axvline(x=best_epoch, label='Best epoch', alpha=.3, ls='--', color='#5a9aa5')\n",
        "plt.legend()\n",
        "plt.grid(alpha=.3)\n",
        "plt.show()"
      ],
      "metadata": {
        "trusted": true,
        "id": "q--R8u4mSKvx"
      },
      "execution_count": null,
      "outputs": []
    },
    {
      "cell_type": "code",
      "source": [
        "general_model.save('./general')\n",
        "encoder_for_forecasting.save('./encoder')\n",
        "decoder_for_forecasting.save('./decoder')"
      ],
      "metadata": {
        "trusted": true,
        "id": "cYgQX5bDSKvy"
      },
      "execution_count": null,
      "outputs": []
    },
    {
      "cell_type": "code",
      "source": [
        "# Predict the test set \n",
        "predictions = general_model.predict([X_val, y_val_dec_out])\n",
        "print(predictions.shape)\n",
        "\n",
        "mean_squared_error = tfk.metrics.mse(y_val_dec_out.flatten(),predictions.flatten())\n",
        "mean_absolute_error = tfk.metrics.mae(y_val_dec_out.flatten(),predictions.flatten())\n",
        "mean_squared_error, mean_absolute_error"
      ],
      "metadata": {
        "trusted": true,
        "id": "w4iw9duISKvz"
      },
      "execution_count": null,
      "outputs": []
    },
    {
      "cell_type": "code",
      "source": [
        "def inspect_multivariate_prediction(X, y, pred, columns, telescope, idx=None):\n",
        "    if(idx==None):\n",
        "        idx=np.random.randint(0,len(X))\n",
        "\n",
        "    figs, axs = plt.subplots(len(columns), 1, sharex=True, figsize=(17,17))\n",
        "    for i, col in enumerate(columns):\n",
        "        axs[i].plot(np.arange(len(X[0,:,i])), X[idx,:,i])\n",
        "        axs[i].plot(np.arange(len(X[0,:,i]), len(X_train[0,:,i])+telescope), y[idx,:,i], color='orange')\n",
        "        axs[i].plot(np.arange(len(X[0,:,i]), len(X_train[0,:,i])+telescope), pred[idx,:,i], color='green')\n",
        "        axs[i].set_title(col)\n",
        "        axs[i].set_ylim(0,1)\n",
        "    plt.show()\n",
        "    \n",
        "    \n",
        "#inspect_multivariate_prediction(X_val, y_val_dec_out[:,:864,:], predictions, target_labels, telescope)"
      ],
      "metadata": {
        "trusted": true,
        "id": "IfxopWT9SKv0"
      },
      "execution_count": null,
      "outputs": []
    },
    {
      "cell_type": "code",
      "source": [
        "reg_telescope = 864\n",
        "X_val_reg, y_val_in_reg, y_val_out_reg = build_sequences(X_validation_raw, target_labels, window, stride, reg_telescope)\n",
        "X_val_reg.shape, y_val_out_reg.shape, y_val_in_reg[:,:,:].shape"
      ],
      "metadata": {
        "trusted": true,
        "id": "VaoopKa2SKv2"
      },
      "execution_count": null,
      "outputs": []
    },
    {
      "cell_type": "code",
      "source": [
        "reg_predictions = np.array([])\n",
        "X_temp = X_val_reg\n",
        "y_temp = tf.expand_dims(X_val_reg[:, (window-1), :], axis=1)\n",
        "for reg in range(0,reg_telescope,telescope):\n",
        "    pred_temp = general_model.predict([X_temp, y_temp])\n",
        "    if(len(reg_predictions)==0):\n",
        "        reg_predictions = pred_temp\n",
        "    else:\n",
        "        reg_predictions = np.concatenate((reg_predictions,pred_temp),axis=1)\n",
        "    X_temp = np.concatenate((X_temp[:,telescope:,:],pred_temp), axis=1)"
      ],
      "metadata": {
        "trusted": true,
        "id": "_bRWzMI9SKv4"
      },
      "execution_count": null,
      "outputs": []
    },
    {
      "cell_type": "code",
      "source": [
        "inspect_multivariate_prediction(X_val_reg, y_val_out_reg, reg_predictions, target_labels, reg_telescope)"
      ],
      "metadata": {
        "trusted": true,
        "id": "S0lzgHz_SKv5"
      },
      "execution_count": null,
      "outputs": []
    },
    {
      "cell_type": "code",
      "source": [
        "def inspect_multivariate_prediction2(X, y, pred, columns, telescope, idx=None):\n",
        "    if(idx==None):\n",
        "        idx=np.random.randint(0,len(X))\n",
        "\n",
        "    figs, axs = plt.subplots(len(columns), 1, sharex=True, figsize=(17,17))\n",
        "    for i, col in enumerate(columns):\n",
        "        axs[i].plot(np.arange(len(X[0,:,i])), X[idx,:,i])\n",
        "        axs[i].plot(np.arange(len(X[0,:,i]), len(X_train[0,:,i])+telescope), y[idx,:,i], color='orange')\n",
        "        axs[i].plot(np.arange(len(X[0,:,i]), len(X_train[0,:,i])+telescope), pred[:,i], color='green')\n",
        "        axs[i].set_title(col)\n",
        "        axs[i].set_ylim(0,1)\n",
        "    plt.show()"
      ],
      "metadata": {
        "trusted": true,
        "id": "GN7xn_STSKv8"
      },
      "execution_count": null,
      "outputs": []
    },
    {
      "cell_type": "code",
      "source": [
        "temp_telescope = 864 \n",
        "X_val_reg, y_val_in_reg, y_val_out_reg = build_sequences(X_validation_raw, target_labels, window, stride, temp_telescope)\n",
        "X_val_reg.shape, y_val_out_reg.shape, y_val_in_reg.shape"
      ],
      "metadata": {
        "trusted": true,
        "id": "B0kdIm1RSKv-"
      },
      "execution_count": null,
      "outputs": []
    },
    {
      "cell_type": "code",
      "source": [
        "for seq in range (100, 500, 100): # To plot more than one prediction\n",
        "\n",
        "    states_value = encoder_for_forecasting.predict(np.expand_dims(X_val_reg[seq,:,:], axis=0))\n",
        "\n",
        "    curr_value = (X_val_reg[seq,window-1,:])*np.ones((1, X_val_reg.shape[2]), dtype='float32')\n",
        "    curr_value = np.expand_dims(curr_value, axis=0)\n",
        "    predictions = []\n",
        "    predictions = tf.convert_to_tensor(predictions)\n",
        "\n",
        "    for _ in range(temp_telescope):\n",
        "        preds, h_, c_ = decoder_for_forecasting.predict([curr_value] + states_value)\n",
        "        curr_value = preds\n",
        "        states_value = [h_, c_]\n",
        "\n",
        "        if(len(predictions)==0):\n",
        "            predictions = preds[0]\n",
        "        else:\n",
        "            predictions = np.concatenate((predictions,preds[0]),axis=0)\n",
        "\n",
        "    inspect_multivariate_prediction2(X_val_reg, y_val_out_reg[:,:temp_telescope,:], predictions, target_labels, temp_telescope, seq)"
      ],
      "metadata": {
        "trusted": true,
        "id": "NZcwKVznSKwA"
      },
      "execution_count": null,
      "outputs": []
    }
  ]
}