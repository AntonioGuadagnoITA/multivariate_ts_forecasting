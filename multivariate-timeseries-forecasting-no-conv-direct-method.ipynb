{
  "metadata": {
    "kernelspec": {
      "language": "python",
      "display_name": "Python 3",
      "name": "python3"
    },
    "language_info": {
      "pygments_lexer": "ipython3",
      "nbconvert_exporter": "python",
      "version": "3.6.4",
      "file_extension": ".py",
      "codemirror_mode": {
        "name": "ipython",
        "version": 3
      },
      "name": "python",
      "mimetype": "text/x-python"
    },
    "colab": {
      "name": "TS Direct V1.ipynb",
      "provenance": []
    }
  },
  "nbformat_minor": 0,
  "nbformat": 4,
  "cells": [
    {
      "cell_type": "code",
      "source": [
        "# Importing libraries\n",
        "import tensorflow as tf\n",
        "import numpy as np\n",
        "import os\n",
        "import random\n",
        "import pandas as pd\n",
        "import seaborn as sns\n",
        "from datetime import datetime\n",
        "import matplotlib.pyplot as plt\n",
        "plt.rc('font', size=16)\n",
        "from sklearn.preprocessing import MinMaxScaler\n",
        "import warnings\n",
        "warnings.filterwarnings('ignore')\n",
        "tf.get_logger().setLevel('ERROR')\n",
        "\n",
        "tfk = tf.keras\n",
        "tfkl = tf.keras.layers\n",
        "\n",
        "# Setting random seed for reproducibility\n",
        "seed = 42\n",
        "\n",
        "random.seed(seed)\n",
        "os.environ['PYTHONHASHSEED'] = str(seed)\n",
        "np.random.seed(seed)\n",
        "tf.random.set_seed(seed)\n",
        "tf.compat.v1.set_random_seed(seed)\n",
        "\n",
        "# Loading the dataset\n",
        "dataset = pd.read_csv('../input/an2dl-homework-2/Training.csv')\n",
        "print(dataset.shape)\n",
        "dataset.head()"
      ],
      "metadata": {
        "_uuid": "8f2839f25d086af736a60e9eeb907d3b93b6e0e5",
        "_cell_guid": "b1076dfc-b9ad-4769-8c92-a6c4dae69d19",
        "trusted": true,
        "id": "ajzxXwzssrGX"
      },
      "execution_count": null,
      "outputs": []
    },
    {
      "cell_type": "code",
      "source": [
        "# Printing info about the dataset\n",
        "dataset.info()"
      ],
      "metadata": {
        "trusted": true,
        "id": "RLik1hXUsrGw"
      },
      "execution_count": null,
      "outputs": []
    },
    {
      "cell_type": "code",
      "source": [
        "def inspect_dataframe(df, columns):\n",
        "    figs, axs = plt.subplots(len(columns), 1, sharex=True, figsize=(17,17))\n",
        "    for i, col in enumerate(columns):\n",
        "        axs[i].plot(df[col])\n",
        "        axs[i].set_title(col)\n",
        "    plt.show()\n",
        "inspect_dataframe(dataset, dataset.columns)"
      ],
      "metadata": {
        "execution": {
          "iopub.status.busy": "2021-12-23T14:04:10.706576Z",
          "iopub.execute_input": "2021-12-23T14:04:10.707053Z",
          "iopub.status.idle": "2021-12-23T14:04:11.582462Z",
          "shell.execute_reply.started": "2021-12-23T14:04:10.707015Z",
          "shell.execute_reply": "2021-12-23T14:04:11.580593Z"
        },
        "trusted": true,
        "id": "x2E7hddosrGz"
      },
      "execution_count": null,
      "outputs": []
    },
    {
      "cell_type": "code",
      "source": [
        "# Initializing window, stride, validation set size and telescope (direct method)\n",
        "window = 800\n",
        "stride = 10\n",
        "validation_size = 12000\n",
        "target_labels = dataset.columns\n",
        "telescope = 864"
      ],
      "metadata": {
        "execution": {
          "iopub.status.busy": "2021-12-23T14:04:11.583910Z",
          "iopub.execute_input": "2021-12-23T14:04:11.584391Z",
          "iopub.status.idle": "2021-12-23T14:04:11.588539Z",
          "shell.execute_reply.started": "2021-12-23T14:04:11.584351Z",
          "shell.execute_reply": "2021-12-23T14:04:11.587695Z"
        },
        "trusted": true,
        "id": "2DcBJZGfsrG2"
      },
      "execution_count": null,
      "outputs": []
    },
    {
      "cell_type": "code",
      "source": [
        "X_train_raw = dataset.iloc[:-validation_size]\n",
        "X_validation_raw = dataset.iloc[-validation_size:]\n",
        "\n",
        "print(X_train_raw.shape, X_validation_raw.shape)\n",
        "\n",
        "# Normalize both features and labels\n",
        "X_min = X_train_raw.min()\n",
        "X_max = X_train_raw.max()\n",
        "\n",
        "X_train_raw = (X_train_raw-X_min)/(X_max-X_min)\n",
        "X_validation_raw = (X_validation_raw-X_min)/(X_max-X_min)"
      ],
      "metadata": {
        "execution": {
          "iopub.status.busy": "2021-12-23T14:04:11.591263Z",
          "iopub.execute_input": "2021-12-23T14:04:11.591818Z",
          "iopub.status.idle": "2021-12-23T14:04:11.608363Z",
          "shell.execute_reply.started": "2021-12-23T14:04:11.591778Z",
          "shell.execute_reply": "2021-12-23T14:04:11.607306Z"
        },
        "trusted": true,
        "id": "S-mq0NmIsrG5"
      },
      "execution_count": null,
      "outputs": []
    },
    {
      "cell_type": "code",
      "source": [
        "def printplots():\n",
        "    for i in range(X_train_raw.shape[1]):\n",
        "        plt.figure(figsize=(17,5))\n",
        "        plt.plot(X_train_raw[(target_labels[i])], label='Train')\n",
        "        plt.plot(X_validation_raw[(target_labels[i])], label='Validation')\n",
        "        plt.title((target_labels[i]))\n",
        "        plt.legend()\n",
        "        plt.show()"
      ],
      "metadata": {
        "execution": {
          "iopub.status.busy": "2021-12-23T14:04:11.609814Z",
          "iopub.execute_input": "2021-12-23T14:04:11.610089Z",
          "iopub.status.idle": "2021-12-23T14:04:11.616553Z",
          "shell.execute_reply.started": "2021-12-23T14:04:11.610051Z",
          "shell.execute_reply": "2021-12-23T14:04:11.615649Z"
        },
        "trusted": true,
        "id": "9WK-f7dJsrG8"
      },
      "execution_count": null,
      "outputs": []
    },
    {
      "cell_type": "code",
      "source": [
        "printplots()"
      ],
      "metadata": {
        "execution": {
          "iopub.status.busy": "2021-12-23T14:04:11.618276Z",
          "iopub.execute_input": "2021-12-23T14:04:11.619078Z",
          "iopub.status.idle": "2021-12-23T14:04:13.683314Z",
          "shell.execute_reply.started": "2021-12-23T14:04:11.619039Z",
          "shell.execute_reply": "2021-12-23T14:04:13.682627Z"
        },
        "trusted": true,
        "id": "IdXLaEfgsrG-"
      },
      "execution_count": null,
      "outputs": []
    },
    {
      "cell_type": "code",
      "source": [
        "future = dataset[-window:]\n",
        "future = (future-X_min)/(X_max-X_min)\n",
        "future = np.expand_dims(future, axis=0)\n",
        "future.shape"
      ],
      "metadata": {
        "execution": {
          "iopub.status.busy": "2021-12-23T14:04:13.684540Z",
          "iopub.execute_input": "2021-12-23T14:04:13.684920Z",
          "iopub.status.idle": "2021-12-23T14:04:13.694280Z",
          "shell.execute_reply.started": "2021-12-23T14:04:13.684883Z",
          "shell.execute_reply": "2021-12-23T14:04:13.693447Z"
        },
        "trusted": true,
        "id": "n4XX0p_KsrHB"
      },
      "execution_count": null,
      "outputs": []
    },
    {
      "cell_type": "code",
      "source": [
        "def build_sequences(df, target_labels=target_labels, window=window, stride=20, telescope=100):\n",
        "    # Sanity check to avoid runtime errors\n",
        "    assert window % stride == 0\n",
        "    dataset = []\n",
        "    labels = []\n",
        "    temp_df = df.copy().values\n",
        "    temp_label = df[target_labels].copy().values\n",
        "    padding_len = len(df)%window\n",
        "\n",
        "    if(padding_len != 0):\n",
        "        # Compute padding length\n",
        "        padding_len = window - len(df)%window\n",
        "        padding = np.zeros((padding_len,temp_df.shape[1]), dtype='float64')\n",
        "        temp_df = np.concatenate((padding,df))\n",
        "        padding = np.zeros((padding_len,temp_label.shape[1]), dtype='float64')\n",
        "        temp_label = np.concatenate((padding,temp_label))\n",
        "        assert len(temp_df) % window == 0\n",
        "\n",
        "    for idx in np.arange(0,len(temp_df)-window-telescope,stride):\n",
        "        dataset.append(temp_df[idx:idx+window])\n",
        "        labels.append(temp_label[idx+window:idx+window+telescope])\n",
        "\n",
        "    dataset = np.array(dataset)\n",
        "    labels = np.array(labels)\n",
        "    return dataset, labels"
      ],
      "metadata": {
        "execution": {
          "iopub.status.busy": "2021-12-23T14:04:13.695669Z",
          "iopub.execute_input": "2021-12-23T14:04:13.695998Z",
          "iopub.status.idle": "2021-12-23T14:04:13.705246Z",
          "shell.execute_reply.started": "2021-12-23T14:04:13.695962Z",
          "shell.execute_reply": "2021-12-23T14:04:13.704587Z"
        },
        "trusted": true,
        "id": "bSItl_h9srHE"
      },
      "execution_count": null,
      "outputs": []
    },
    {
      "cell_type": "code",
      "source": [
        "X_train, y_train = build_sequences(X_train_raw, target_labels, window, stride, telescope)\n",
        "X_val, y_val = build_sequences(X_validation_raw, target_labels, window, stride, telescope)\n",
        "X_train.shape, y_train.shape, X_val.shape, y_val.shape"
      ],
      "metadata": {
        "execution": {
          "iopub.status.busy": "2021-12-23T14:04:13.706405Z",
          "iopub.execute_input": "2021-12-23T14:04:13.706937Z",
          "iopub.status.idle": "2021-12-23T14:04:13.888479Z",
          "shell.execute_reply.started": "2021-12-23T14:04:13.706887Z",
          "shell.execute_reply": "2021-12-23T14:04:13.887799Z"
        },
        "trusted": true,
        "id": "B5VoR4nzsrHH"
      },
      "execution_count": null,
      "outputs": []
    },
    {
      "cell_type": "code",
      "source": [
        "input_shape = X_train.shape[1:]\n",
        "output_shape = y_train.shape[1:]\n",
        "batch_size = 32\n",
        "epochs = 200"
      ],
      "metadata": {
        "execution": {
          "iopub.status.busy": "2021-12-23T14:04:13.889712Z",
          "iopub.execute_input": "2021-12-23T14:04:13.889980Z",
          "iopub.status.idle": "2021-12-23T14:04:13.894784Z",
          "shell.execute_reply.started": "2021-12-23T14:04:13.889943Z",
          "shell.execute_reply": "2021-12-23T14:04:13.894034Z"
        },
        "trusted": true,
        "id": "aw17FEknsrHM"
      },
      "execution_count": null,
      "outputs": []
    },
    {
      "cell_type": "code",
      "source": [
        "# Building the model\n",
        "def build_NO_CONV_LSTM_model(input_shape, output_shape):\n",
        "\n",
        "    input_layer = tfkl.Input(shape=input_shape, name='Input')\n",
        "    convlstm = tfkl.Bidirectional(tfkl.LSTM(128, return_sequences=True))(input_layer)\n",
        "    convlstm = tfkl.Bidirectional(tfkl.LSTM(128))(convlstm)\n",
        "    convlstm = tfkl.Dropout(.4)(convlstm)\n",
        "\n",
        "    dense = tfkl.Dense(output_shape[-1]*output_shape[-2], activation='relu')(convlstm)\n",
        "    output_layer = tfkl.Reshape((output_shape[-2],output_shape[-1]))(dense)\n",
        "    output_layer = tfkl.Conv1D(output_shape[-1], 1, padding='same')(output_layer)\n",
        "\n",
        "    # Connect input and output through the Model class\n",
        "    model = tfk.Model(inputs=input_layer, outputs=output_layer, name='model')\n",
        "\n",
        "    # Compile the model\n",
        "    model.compile(loss=tfk.losses.MeanSquaredError(), optimizer=tfk.optimizers.Adam(5e-4), metrics=[tfk.metrics.RootMeanSquaredError()])\n",
        "\n",
        "    # Return the model\n",
        "    return model"
      ],
      "metadata": {
        "execution": {
          "iopub.status.busy": "2021-12-23T14:04:13.896211Z",
          "iopub.execute_input": "2021-12-23T14:04:13.896515Z",
          "iopub.status.idle": "2021-12-23T14:04:13.907551Z",
          "shell.execute_reply.started": "2021-12-23T14:04:13.896479Z",
          "shell.execute_reply": "2021-12-23T14:04:13.906844Z"
        },
        "trusted": true,
        "id": "8ATqeX4wsrHP"
      },
      "execution_count": null,
      "outputs": []
    },
    {
      "cell_type": "code",
      "source": [
        "model = build_NO_CONV_LSTM_model(input_shape, output_shape)\n",
        "model.summary()"
      ],
      "metadata": {
        "execution": {
          "iopub.status.busy": "2021-12-23T14:04:13.908900Z",
          "iopub.execute_input": "2021-12-23T14:04:13.909489Z",
          "iopub.status.idle": "2021-12-23T14:04:14.741262Z",
          "shell.execute_reply.started": "2021-12-23T14:04:13.909403Z",
          "shell.execute_reply": "2021-12-23T14:04:14.740552Z"
        },
        "trusted": true,
        "id": "eMjDqOYpsrHR"
      },
      "execution_count": null,
      "outputs": []
    },
    {
      "cell_type": "code",
      "source": [
        "# Training\n",
        "history = model.fit(\n",
        "    x = X_train,\n",
        "    y = y_train,\n",
        "    batch_size = batch_size,\n",
        "    epochs = epochs,\n",
        "    validation_data = (X_val,y_val),\n",
        "    callbacks = [tfk.callbacks.EarlyStopping(monitor='val_loss', mode='min', patience=10, restore_best_weights=True),\n",
        "                tfk.callbacks.ReduceLROnPlateau(monitor='val_loss', mode='min', patience=5, factor=0.5, min_lr=1e-5)]\n",
        ").history"
      ],
      "metadata": {
        "execution": {
          "iopub.status.busy": "2021-12-23T14:04:14.744090Z",
          "iopub.execute_input": "2021-12-23T14:04:14.744347Z",
          "iopub.status.idle": "2021-12-23T14:24:41.995382Z",
          "shell.execute_reply.started": "2021-12-23T14:04:14.744317Z",
          "shell.execute_reply": "2021-12-23T14:24:41.994658Z"
        },
        "trusted": true,
        "id": "H68wk0G4srHT"
      },
      "execution_count": null,
      "outputs": []
    },
    {
      "cell_type": "code",
      "source": [
        "best_epoch = np.argmin(history['val_loss'])\n",
        "plt.figure(figsize=(17,4))\n",
        "plt.plot(history['loss'], label='Training loss', alpha=.8, color='#ff7f0e')\n",
        "plt.plot(history['val_loss'], label='Validation loss', alpha=.9, color='#5a9aa5')\n",
        "plt.axvline(x=best_epoch, label='Best epoch', alpha=.3, ls='--', color='#5a9aa5')\n",
        "plt.title('Root Mean Squared Error (Loss)')\n",
        "plt.legend()\n",
        "plt.grid(alpha=.3)\n",
        "plt.show()\n",
        "\n",
        "plt.figure(figsize=(17,4))\n",
        "plt.plot(history['root_mean_squared_error'], label='Training RMSE', alpha=.8, color='#ff7f0e')\n",
        "plt.plot(history['val_root_mean_squared_error'], label='Validation RMSE', alpha=.9, color='#5a9aa5')\n",
        "plt.axvline(x=best_epoch, label='Best epoch', alpha=.3, ls='--', color='#5a9aa5')\n",
        "plt.title('Root Mean Squared Error')\n",
        "plt.legend()\n",
        "plt.grid(alpha=.3)\n",
        "plt.show()\n",
        "\n",
        "plt.figure(figsize=(18,3))\n",
        "plt.plot(history['lr'], label='Learning Rate', alpha=.8, color='#ff7f0e')\n",
        "plt.axvline(x=best_epoch, label='Best epoch', alpha=.3, ls='--', color='#5a9aa5')\n",
        "plt.legend()\n",
        "plt.grid(alpha=.3)\n",
        "plt.show()"
      ],
      "metadata": {
        "execution": {
          "iopub.status.busy": "2021-12-23T14:24:41.996757Z",
          "iopub.execute_input": "2021-12-23T14:24:41.997031Z",
          "iopub.status.idle": "2021-12-23T14:24:43.995242Z",
          "shell.execute_reply.started": "2021-12-23T14:24:41.996997Z",
          "shell.execute_reply": "2021-12-23T14:24:43.994571Z"
        },
        "trusted": true,
        "id": "E2GL6XFgsrHV"
      },
      "execution_count": null,
      "outputs": []
    },
    {
      "cell_type": "code",
      "source": [
        "# Saving the model\n",
        "model.save('TS_Direct_Y')"
      ],
      "metadata": {
        "execution": {
          "iopub.status.busy": "2021-12-23T14:24:43.996483Z",
          "iopub.execute_input": "2021-12-23T14:24:43.996719Z",
          "iopub.status.idle": "2021-12-23T14:25:03.461674Z",
          "shell.execute_reply.started": "2021-12-23T14:24:43.996685Z",
          "shell.execute_reply": "2021-12-23T14:25:03.460952Z"
        },
        "trusted": true,
        "id": "3hvXoiAHsrHX"
      },
      "execution_count": null,
      "outputs": []
    },
    {
      "cell_type": "code",
      "source": [
        "# Predict the test set \n",
        "predictions = model.predict(X_val)\n",
        "print(predictions.shape)\n",
        "\n",
        "mean_squared_error = tfk.metrics.mse(y_val.flatten(),predictions.flatten())\n",
        "mean_absolute_error = tfk.metrics.mae(y_val.flatten(),predictions.flatten())\n",
        "mean_squared_error, mean_absolute_error"
      ],
      "metadata": {
        "execution": {
          "iopub.status.busy": "2021-12-23T14:25:03.464054Z",
          "iopub.execute_input": "2021-12-23T14:25:03.464462Z",
          "iopub.status.idle": "2021-12-23T14:25:06.454827Z",
          "shell.execute_reply.started": "2021-12-23T14:25:03.464425Z",
          "shell.execute_reply": "2021-12-23T14:25:06.454003Z"
        },
        "trusted": true,
        "id": "AGUOOzLBsrHa"
      },
      "execution_count": null,
      "outputs": []
    },
    {
      "cell_type": "code",
      "source": [
        "def inspect_multivariate_prediction(X, y, pred, columns, telescope, idx=None):\n",
        "    if(idx==None):\n",
        "        idx=np.random.randint(0,len(X))\n",
        "\n",
        "    figs, axs = plt.subplots(len(columns), 1, sharex=True, figsize=(17,17))\n",
        "    for i, col in enumerate(columns):\n",
        "        axs[i].plot(np.arange(len(X[0,:,i])), X[idx,:,i])\n",
        "        axs[i].plot(np.arange(len(X[0,:,i]), len(X_train[0,:,i])+telescope), y[idx,:,i], color='orange')\n",
        "        axs[i].plot(np.arange(len(X[0,:,i]), len(X_train[0,:,i])+telescope), pred[idx,:,i], color='green')\n",
        "        axs[i].set_title(col)\n",
        "        axs[i].set_ylim(0,1)\n",
        "    plt.show()"
      ],
      "metadata": {
        "execution": {
          "iopub.status.busy": "2021-12-23T14:25:06.456238Z",
          "iopub.execute_input": "2021-12-23T14:25:06.456647Z",
          "iopub.status.idle": "2021-12-23T14:25:06.466183Z",
          "shell.execute_reply.started": "2021-12-23T14:25:06.456608Z",
          "shell.execute_reply": "2021-12-23T14:25:06.465420Z"
        },
        "trusted": true,
        "id": "4XCmnQAosrHd"
      },
      "execution_count": null,
      "outputs": []
    },
    {
      "cell_type": "code",
      "source": [
        "inspect_multivariate_prediction(X_val, y_val, predictions, target_labels, telescope)"
      ],
      "metadata": {
        "execution": {
          "iopub.status.busy": "2021-12-23T14:42:28.966487Z",
          "iopub.execute_input": "2021-12-23T14:42:28.966744Z",
          "iopub.status.idle": "2021-12-23T14:42:29.664355Z",
          "shell.execute_reply.started": "2021-12-23T14:42:28.966714Z",
          "shell.execute_reply": "2021-12-23T14:42:29.662991Z"
        },
        "trusted": true,
        "id": "Es_geLsZsrHf"
      },
      "execution_count": null,
      "outputs": []
    }
  ]
}